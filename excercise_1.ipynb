{
  "nbformat": 4,
  "nbformat_minor": 0,
  "metadata": {
    "colab": {
      "name": "excercise 1.ipynb",
      "provenance": [],
      "private_outputs": true,
      "collapsed_sections": [],
      "authorship_tag": "ABX9TyMH35PtppfNnoYZt/zmjGnp",
      "include_colab_link": true
    },
    "kernelspec": {
      "name": "python3",
      "display_name": "Python 3"
    }
  },
  "cells": [
    {
      "cell_type": "markdown",
      "metadata": {
        "id": "view-in-github",
        "colab_type": "text"
      },
      "source": [
        "<a href=\"https://colab.research.google.com/github/vsrajanin/Deep-Learning/blob/master/excercise_1.ipynb\" target=\"_parent\"><img src=\"https://colab.research.google.com/assets/colab-badge.svg\" alt=\"Open In Colab\"/></a>"
      ]
    },
    {
      "cell_type": "code",
      "metadata": {
        "id": "g5i40wNBh12W",
        "colab_type": "code",
        "colab": {}
      },
      "source": [
        "import tensorflow as tf\n"
      ],
      "execution_count": 0,
      "outputs": []
    },
    {
      "cell_type": "code",
      "metadata": {
        "id": "thqMTe9wn-ZP",
        "colab_type": "code",
        "colab": {}
      },
      "source": [
        "print(tf.__version__)"
      ],
      "execution_count": 0,
      "outputs": []
    },
    {
      "cell_type": "code",
      "metadata": {
        "id": "kNwSXboFoJQa",
        "colab_type": "code",
        "colab": {}
      },
      "source": [
        "# Our task is to implement the flowwing function suing Tensorflow \n",
        "# f(x,y)=x^2y+y+2\n",
        "# defining the constant x,y\n",
        "x=tf.constant(20,name=\"x\")\n",
        "y=tf.constant(10,name=\"y\")"
      ],
      "execution_count": 0,
      "outputs": []
    },
    {
      "cell_type": "code",
      "metadata": {
        "id": "JgtHbSyEo80e",
        "colab_type": "code",
        "colab": {}
      },
      "source": [
        "# Square the value x\n",
        "z=tf.square(x,name=\"z\")"
      ],
      "execution_count": 0,
      "outputs": []
    },
    {
      "cell_type": "code",
      "metadata": {
        "id": "eAzfeLHdpfmN",
        "colab_type": "code",
        "colab": {}
      },
      "source": [
        "# multiply with squared result \"z\" with \"y\" value\n",
        "a=tf.multiply(z,y,name=\"a\")"
      ],
      "execution_count": 0,
      "outputs": []
    },
    {
      "cell_type": "code",
      "metadata": {
        "id": "A6Pu5azHqgxl",
        "colab_type": "code",
        "colab": {}
      },
      "source": [
        "# Added the the result value \"a\" with \"y\" value\n",
        "b=tf.add(a,y,name=\"b\")"
      ],
      "execution_count": 0,
      "outputs": []
    },
    {
      "cell_type": "code",
      "metadata": {
        "id": "i1nwyVsfuQ0j",
        "colab_type": "code",
        "colab": {}
      },
      "source": [
        "# Again add numerical value 2 with the result value\"b\".\n",
        "c=tf.add(b,2,name=\"c\")"
      ],
      "execution_count": 0,
      "outputs": []
    },
    {
      "cell_type": "code",
      "metadata": {
        "id": "MVl50OB2uZzw",
        "colab_type": "code",
        "colab": {}
      },
      "source": [
        "\n",
        "print(c)"
      ],
      "execution_count": 0,
      "outputs": []
    },
    {
      "cell_type": "code",
      "metadata": {
        "id": "tCVL8kyXudnh",
        "colab_type": "code",
        "colab": {}
      },
      "source": [
        "#Since we are using lower version 1.15.2, we neeed to open session in order to print the result.\n",
        "session = tf.Session()"
      ],
      "execution_count": 0,
      "outputs": []
    },
    {
      "cell_type": "code",
      "metadata": {
        "id": "krXZ87KwuiKN",
        "colab_type": "code",
        "colab": {}
      },
      "source": [
        "result = session.run(c)"
      ],
      "execution_count": 0,
      "outputs": []
    },
    {
      "cell_type": "code",
      "metadata": {
        "id": "aSM6u6m6utho",
        "colab_type": "code",
        "colab": {}
      },
      "source": [
        "print(result)"
      ],
      "execution_count": 0,
      "outputs": []
    },
    {
      "cell_type": "code",
      "metadata": {
        "id": "s67Jjg0DyxfU",
        "colab_type": "code",
        "colab": {}
      },
      "source": [
        "#after the ifinished using the session  it is important to close the session\n",
        "session.close()"
      ],
      "execution_count": 0,
      "outputs": []
    }
  ]
}