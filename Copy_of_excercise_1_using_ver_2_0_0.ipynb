{
  "nbformat": 4,
  "nbformat_minor": 0,
  "metadata": {
    "colab": {
      "name": "Copy of excercise 1 using ver -2.0.0.ipynb",
      "provenance": [],
      "private_outputs": true,
      "collapsed_sections": [],
      "authorship_tag": "ABX9TyPqwpZ6nL1tA3ClyBBIIJTo",
      "include_colab_link": true
    },
    "kernelspec": {
      "name": "python3",
      "display_name": "Python 3"
    }
  },
  "cells": [
    {
      "cell_type": "markdown",
      "metadata": {
        "id": "view-in-github",
        "colab_type": "text"
      },
      "source": [
        "<a href=\"https://colab.research.google.com/github/vsrajanin/Deep-Learning/blob/master/Copy_of_excercise_1_using_ver_2_0_0.ipynb\" target=\"_parent\"><img src=\"https://colab.research.google.com/assets/colab-badge.svg\" alt=\"Open In Colab\"/></a>"
      ]
    },
    {
      "cell_type": "code",
      "metadata": {
        "id": "g5i40wNBh12W",
        "colab_type": "code",
        "colab": {}
      },
      "source": [
        "import tensorflow as tf\n"
      ],
      "execution_count": 0,
      "outputs": []
    },
    {
      "cell_type": "code",
      "metadata": {
        "id": "thqMTe9wn-ZP",
        "colab_type": "code",
        "colab": {}
      },
      "source": [
        "print(tf.__version__)"
      ],
      "execution_count": 0,
      "outputs": []
    },
    {
      "cell_type": "code",
      "metadata": {
        "id": "pkh8QKb21HuH",
        "colab_type": "code",
        "colab": {}
      },
      "source": [
        "# Uninstalling old version -1.15.2\n",
        "!pip uninstall tensorflow"
      ],
      "execution_count": 0,
      "outputs": []
    },
    {
      "cell_type": "code",
      "metadata": {
        "id": "-2KT6OS81cmw",
        "colab_type": "code",
        "colab": {}
      },
      "source": [
        "# Installing latest Version of tensorflow =2.0.0\n",
        "!pip install tensorflow==2.0.0\n",
        "# After installing the latest version 2.0.0... we need to restart the Runtime once again."
      ],
      "execution_count": 0,
      "outputs": []
    },
    {
      "cell_type": "code",
      "metadata": {
        "id": "kNwSXboFoJQa",
        "colab_type": "code",
        "colab": {}
      },
      "source": [
        "# defining the constant x,y\n",
        "\n",
        "x=tf.constant(20,name=\"x\")\n",
        "y=tf.constant(10,name=\"y\")"
      ],
      "execution_count": 0,
      "outputs": []
    },
    {
      "cell_type": "code",
      "metadata": {
        "id": "JgtHbSyEo80e",
        "colab_type": "code",
        "colab": {}
      },
      "source": [
        "# Square the value x\n",
        "z=tf.square(x,name=\"z\")"
      ],
      "execution_count": 0,
      "outputs": []
    },
    {
      "cell_type": "code",
      "metadata": {
        "id": "eAzfeLHdpfmN",
        "colab_type": "code",
        "colab": {}
      },
      "source": [
        "# multiply with squared result \"z\" with \"y\" value\n",
        "a=tf.multiply(z,y,name=\"a\")"
      ],
      "execution_count": 0,
      "outputs": []
    },
    {
      "cell_type": "code",
      "metadata": {
        "id": "A6Pu5azHqgxl",
        "colab_type": "code",
        "colab": {}
      },
      "source": [
        "# Added the the result value \"a\" with \"y\" value\n",
        "b=tf.add(a,y,name=\"b\")"
      ],
      "execution_count": 0,
      "outputs": []
    },
    {
      "cell_type": "code",
      "metadata": {
        "id": "i1nwyVsfuQ0j",
        "colab_type": "code",
        "colab": {}
      },
      "source": [
        "# Again add numerical value 2 with the result value\"b\".\n",
        "c=tf.add(b,2,name=\"c\")"
      ],
      "execution_count": 0,
      "outputs": []
    },
    {
      "cell_type": "code",
      "metadata": {
        "id": "MVl50OB2uZzw",
        "colab_type": "code",
        "colab": {}
      },
      "source": [
        "# if we use the latest version 2.0.0, we no need to intialize Session. instead we can directly print using rprint option available in tensorflow\n",
        "tf.print(c)"
      ],
      "execution_count": 0,
      "outputs": []
    },
    {
      "cell_type": "code",
      "metadata": {
        "id": "fKI2u_SW-ZwK",
        "colab_type": "code",
        "colab": {}
      },
      "source": [
        ""
      ],
      "execution_count": 0,
      "outputs": []
    }
  ]
}