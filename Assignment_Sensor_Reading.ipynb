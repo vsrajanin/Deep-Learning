{
  "nbformat": 4,
  "nbformat_minor": 0,
  "metadata": {
    "colab": {
      "name": "Sensor Reading.ipynb",
      "provenance": [],
      "collapsed_sections": [],
      "toc_visible": true
    },
    "kernelspec": {
      "name": "python3",
      "display_name": "Python 3"
    },
    "accelerator": "GPU"
  },
  "cells": [
    {
      "cell_type": "code",
      "metadata": {
        "id": "-cOzC68sm6zg",
        "colab_type": "code",
        "colab": {}
      },
      "source": [
        "import tensorflow as tf\n",
        "from tensorflow.keras.layers import Dense,Dropout,BatchNormalization\n",
        "from tensorflow.keras.models import Sequential\n",
        "from sklearn.model_selection import train_test_split\n",
        "import numpy as np\n",
        "import pandas as pd\n",
        "from sklearn.preprocessing import LabelEncoder\n",
        "from keras.utils import np_utils"
      ],
      "execution_count": 0,
      "outputs": []
    },
    {
      "cell_type": "markdown",
      "metadata": {
        "id": "PyZwUJlXtW7Z",
        "colab_type": "text"
      },
      "source": [
        "Load the data"
      ]
    },
    {
      "cell_type": "code",
      "metadata": {
        "id": "dLctB0Ezpaij",
        "colab_type": "code",
        "colab": {}
      },
      "source": [
        "cols = ['v1','v2','v3','v4','v5','v6','v7','v8','v9','v10','v11','v12','v13','v14','v15','v16','v17','v18','v19','v20','v21','V22','V23','V24','OUTPUT']\n",
        "dataset = pd.read_csv(\"/content/drive/My Drive/sensor_readings_24.csv\", names = cols)"
      ],
      "execution_count": 0,
      "outputs": []
    },
    {
      "cell_type": "code",
      "metadata": {
        "id": "5Itr-Ewdtvl-",
        "colab_type": "code",
        "outputId": "e599d895-47c3-49b6-f301-7573346d39cd",
        "colab": {
          "base_uri": "https://localhost:8080/",
          "height": 384
        }
      },
      "source": [
        "dataset.head()"
      ],
      "execution_count": 24,
      "outputs": [
        {
          "output_type": "execute_result",
          "data": {
            "text/html": [
              "<div>\n",
              "<style scoped>\n",
              "    .dataframe tbody tr th:only-of-type {\n",
              "        vertical-align: middle;\n",
              "    }\n",
              "\n",
              "    .dataframe tbody tr th {\n",
              "        vertical-align: top;\n",
              "    }\n",
              "\n",
              "    .dataframe thead th {\n",
              "        text-align: right;\n",
              "    }\n",
              "</style>\n",
              "<table border=\"1\" class=\"dataframe\">\n",
              "  <thead>\n",
              "    <tr style=\"text-align: right;\">\n",
              "      <th></th>\n",
              "      <th>v1</th>\n",
              "      <th>v2</th>\n",
              "      <th>v3</th>\n",
              "      <th>v4</th>\n",
              "      <th>v5</th>\n",
              "      <th>v6</th>\n",
              "      <th>v7</th>\n",
              "      <th>v8</th>\n",
              "      <th>v9</th>\n",
              "      <th>v10</th>\n",
              "      <th>v11</th>\n",
              "      <th>v12</th>\n",
              "      <th>v13</th>\n",
              "      <th>v14</th>\n",
              "      <th>v15</th>\n",
              "      <th>v16</th>\n",
              "      <th>v17</th>\n",
              "      <th>v18</th>\n",
              "      <th>v19</th>\n",
              "      <th>v20</th>\n",
              "      <th>v21</th>\n",
              "      <th>V22</th>\n",
              "      <th>V23</th>\n",
              "      <th>V24</th>\n",
              "      <th>OUTPUT</th>\n",
              "    </tr>\n",
              "  </thead>\n",
              "  <tbody>\n",
              "    <tr>\n",
              "      <th>0</th>\n",
              "      <td>0.438</td>\n",
              "      <td>0.498</td>\n",
              "      <td>3.625</td>\n",
              "      <td>3.645</td>\n",
              "      <td>5.0</td>\n",
              "      <td>2.918</td>\n",
              "      <td>5.0</td>\n",
              "      <td>2.351</td>\n",
              "      <td>2.332</td>\n",
              "      <td>2.643</td>\n",
              "      <td>1.698</td>\n",
              "      <td>1.687</td>\n",
              "      <td>1.698</td>\n",
              "      <td>1.717</td>\n",
              "      <td>1.744</td>\n",
              "      <td>0.593</td>\n",
              "      <td>0.502</td>\n",
              "      <td>0.493</td>\n",
              "      <td>0.504</td>\n",
              "      <td>0.445</td>\n",
              "      <td>0.431</td>\n",
              "      <td>0.444</td>\n",
              "      <td>0.440</td>\n",
              "      <td>0.429</td>\n",
              "      <td>Slight-Right-Turn</td>\n",
              "    </tr>\n",
              "    <tr>\n",
              "      <th>1</th>\n",
              "      <td>0.438</td>\n",
              "      <td>0.498</td>\n",
              "      <td>3.625</td>\n",
              "      <td>3.648</td>\n",
              "      <td>5.0</td>\n",
              "      <td>2.918</td>\n",
              "      <td>5.0</td>\n",
              "      <td>2.637</td>\n",
              "      <td>2.332</td>\n",
              "      <td>2.649</td>\n",
              "      <td>1.695</td>\n",
              "      <td>1.687</td>\n",
              "      <td>1.695</td>\n",
              "      <td>1.720</td>\n",
              "      <td>1.744</td>\n",
              "      <td>0.592</td>\n",
              "      <td>0.502</td>\n",
              "      <td>0.493</td>\n",
              "      <td>0.504</td>\n",
              "      <td>0.449</td>\n",
              "      <td>0.431</td>\n",
              "      <td>0.444</td>\n",
              "      <td>0.443</td>\n",
              "      <td>0.429</td>\n",
              "      <td>Slight-Right-Turn</td>\n",
              "    </tr>\n",
              "    <tr>\n",
              "      <th>2</th>\n",
              "      <td>0.438</td>\n",
              "      <td>0.498</td>\n",
              "      <td>3.625</td>\n",
              "      <td>3.629</td>\n",
              "      <td>5.0</td>\n",
              "      <td>2.918</td>\n",
              "      <td>5.0</td>\n",
              "      <td>2.637</td>\n",
              "      <td>2.334</td>\n",
              "      <td>2.643</td>\n",
              "      <td>1.696</td>\n",
              "      <td>1.687</td>\n",
              "      <td>1.695</td>\n",
              "      <td>1.717</td>\n",
              "      <td>1.744</td>\n",
              "      <td>0.593</td>\n",
              "      <td>0.502</td>\n",
              "      <td>0.493</td>\n",
              "      <td>0.504</td>\n",
              "      <td>0.449</td>\n",
              "      <td>0.431</td>\n",
              "      <td>0.444</td>\n",
              "      <td>0.446</td>\n",
              "      <td>0.429</td>\n",
              "      <td>Slight-Right-Turn</td>\n",
              "    </tr>\n",
              "    <tr>\n",
              "      <th>3</th>\n",
              "      <td>0.437</td>\n",
              "      <td>0.501</td>\n",
              "      <td>3.625</td>\n",
              "      <td>3.626</td>\n",
              "      <td>5.0</td>\n",
              "      <td>2.918</td>\n",
              "      <td>5.0</td>\n",
              "      <td>2.353</td>\n",
              "      <td>2.334</td>\n",
              "      <td>2.642</td>\n",
              "      <td>1.730</td>\n",
              "      <td>1.687</td>\n",
              "      <td>1.695</td>\n",
              "      <td>1.717</td>\n",
              "      <td>1.744</td>\n",
              "      <td>0.593</td>\n",
              "      <td>0.502</td>\n",
              "      <td>0.493</td>\n",
              "      <td>0.504</td>\n",
              "      <td>0.449</td>\n",
              "      <td>0.431</td>\n",
              "      <td>0.444</td>\n",
              "      <td>0.444</td>\n",
              "      <td>0.429</td>\n",
              "      <td>Slight-Right-Turn</td>\n",
              "    </tr>\n",
              "    <tr>\n",
              "      <th>4</th>\n",
              "      <td>0.438</td>\n",
              "      <td>0.498</td>\n",
              "      <td>3.626</td>\n",
              "      <td>3.629</td>\n",
              "      <td>5.0</td>\n",
              "      <td>2.918</td>\n",
              "      <td>5.0</td>\n",
              "      <td>2.640</td>\n",
              "      <td>2.334</td>\n",
              "      <td>2.639</td>\n",
              "      <td>1.696</td>\n",
              "      <td>1.687</td>\n",
              "      <td>1.695</td>\n",
              "      <td>1.717</td>\n",
              "      <td>1.744</td>\n",
              "      <td>0.592</td>\n",
              "      <td>0.502</td>\n",
              "      <td>0.493</td>\n",
              "      <td>0.504</td>\n",
              "      <td>0.449</td>\n",
              "      <td>0.431</td>\n",
              "      <td>0.444</td>\n",
              "      <td>0.441</td>\n",
              "      <td>0.429</td>\n",
              "      <td>Slight-Right-Turn</td>\n",
              "    </tr>\n",
              "  </tbody>\n",
              "</table>\n",
              "</div>"
            ],
            "text/plain": [
              "      v1     v2     v3     v4  ...    V22    V23    V24             OUTPUT\n",
              "0  0.438  0.498  3.625  3.645  ...  0.444  0.440  0.429  Slight-Right-Turn\n",
              "1  0.438  0.498  3.625  3.648  ...  0.444  0.443  0.429  Slight-Right-Turn\n",
              "2  0.438  0.498  3.625  3.629  ...  0.444  0.446  0.429  Slight-Right-Turn\n",
              "3  0.437  0.501  3.625  3.626  ...  0.444  0.444  0.429  Slight-Right-Turn\n",
              "4  0.438  0.498  3.626  3.629  ...  0.444  0.441  0.429  Slight-Right-Turn\n",
              "\n",
              "[5 rows x 25 columns]"
            ]
          },
          "metadata": {
            "tags": []
          },
          "execution_count": 24
        }
      ]
    },
    {
      "cell_type": "code",
      "metadata": {
        "id": "P785bFvk0EJL",
        "colab_type": "code",
        "outputId": "bacd72c7-0b76-4c8c-d211-d96d76510edd",
        "colab": {
          "base_uri": "https://localhost:8080/",
          "height": 33
        }
      },
      "source": [
        "dataset.shape"
      ],
      "execution_count": 25,
      "outputs": [
        {
          "output_type": "execute_result",
          "data": {
            "text/plain": [
              "(5456, 25)"
            ]
          },
          "metadata": {
            "tags": []
          },
          "execution_count": 25
        }
      ]
    },
    {
      "cell_type": "code",
      "metadata": {
        "colab_type": "code",
        "id": "NRGBZhxPywHW",
        "colab": {}
      },
      "source": [
        "encoder = LabelEncoder()\n",
        "dataset['OUTPUT'] =encoder.fit_transform(dataset['OUTPUT'])"
      ],
      "execution_count": 0,
      "outputs": []
    },
    {
      "cell_type": "markdown",
      "metadata": {
        "id": "G4oO7c4Jj6TR",
        "colab_type": "text"
      },
      "source": [
        "**Read the data in theDataset**"
      ]
    },
    {
      "cell_type": "code",
      "metadata": {
        "id": "9slFkGn_1Hmg",
        "colab_type": "code",
        "outputId": "5b53a205-4ad9-4aa8-8b76-4d395adb6e5f",
        "colab": {
          "base_uri": "https://localhost:8080/",
          "height": 218
        }
      },
      "source": [
        "dataset.head()"
      ],
      "execution_count": 0,
      "outputs": [
        {
          "output_type": "execute_result",
          "data": {
            "text/html": [
              "<div>\n",
              "<style scoped>\n",
              "    .dataframe tbody tr th:only-of-type {\n",
              "        vertical-align: middle;\n",
              "    }\n",
              "\n",
              "    .dataframe tbody tr th {\n",
              "        vertical-align: top;\n",
              "    }\n",
              "\n",
              "    .dataframe thead th {\n",
              "        text-align: right;\n",
              "    }\n",
              "</style>\n",
              "<table border=\"1\" class=\"dataframe\">\n",
              "  <thead>\n",
              "    <tr style=\"text-align: right;\">\n",
              "      <th></th>\n",
              "      <th>a</th>\n",
              "      <th>b</th>\n",
              "      <th>c</th>\n",
              "      <th>d</th>\n",
              "      <th>e</th>\n",
              "      <th>f</th>\n",
              "      <th>g</th>\n",
              "      <th>h</th>\n",
              "      <th>i</th>\n",
              "      <th>j</th>\n",
              "      <th>k</th>\n",
              "      <th>l</th>\n",
              "      <th>m</th>\n",
              "      <th>n</th>\n",
              "      <th>o</th>\n",
              "      <th>p</th>\n",
              "      <th>q</th>\n",
              "      <th>r</th>\n",
              "      <th>s</th>\n",
              "      <th>t</th>\n",
              "      <th>u</th>\n",
              "      <th>v</th>\n",
              "      <th>w</th>\n",
              "      <th>x</th>\n",
              "      <th>y</th>\n",
              "    </tr>\n",
              "  </thead>\n",
              "  <tbody>\n",
              "    <tr>\n",
              "      <th>0</th>\n",
              "      <td>0.438</td>\n",
              "      <td>0.498</td>\n",
              "      <td>3.625</td>\n",
              "      <td>3.645</td>\n",
              "      <td>5.0</td>\n",
              "      <td>2.918</td>\n",
              "      <td>5.0</td>\n",
              "      <td>2.351</td>\n",
              "      <td>2.332</td>\n",
              "      <td>2.643</td>\n",
              "      <td>1.698</td>\n",
              "      <td>1.687</td>\n",
              "      <td>1.698</td>\n",
              "      <td>1.717</td>\n",
              "      <td>1.744</td>\n",
              "      <td>0.593</td>\n",
              "      <td>0.502</td>\n",
              "      <td>0.493</td>\n",
              "      <td>0.504</td>\n",
              "      <td>0.445</td>\n",
              "      <td>0.431</td>\n",
              "      <td>0.444</td>\n",
              "      <td>0.440</td>\n",
              "      <td>0.429</td>\n",
              "      <td>3</td>\n",
              "    </tr>\n",
              "    <tr>\n",
              "      <th>1</th>\n",
              "      <td>0.438</td>\n",
              "      <td>0.498</td>\n",
              "      <td>3.625</td>\n",
              "      <td>3.648</td>\n",
              "      <td>5.0</td>\n",
              "      <td>2.918</td>\n",
              "      <td>5.0</td>\n",
              "      <td>2.637</td>\n",
              "      <td>2.332</td>\n",
              "      <td>2.649</td>\n",
              "      <td>1.695</td>\n",
              "      <td>1.687</td>\n",
              "      <td>1.695</td>\n",
              "      <td>1.720</td>\n",
              "      <td>1.744</td>\n",
              "      <td>0.592</td>\n",
              "      <td>0.502</td>\n",
              "      <td>0.493</td>\n",
              "      <td>0.504</td>\n",
              "      <td>0.449</td>\n",
              "      <td>0.431</td>\n",
              "      <td>0.444</td>\n",
              "      <td>0.443</td>\n",
              "      <td>0.429</td>\n",
              "      <td>3</td>\n",
              "    </tr>\n",
              "    <tr>\n",
              "      <th>2</th>\n",
              "      <td>0.438</td>\n",
              "      <td>0.498</td>\n",
              "      <td>3.625</td>\n",
              "      <td>3.629</td>\n",
              "      <td>5.0</td>\n",
              "      <td>2.918</td>\n",
              "      <td>5.0</td>\n",
              "      <td>2.637</td>\n",
              "      <td>2.334</td>\n",
              "      <td>2.643</td>\n",
              "      <td>1.696</td>\n",
              "      <td>1.687</td>\n",
              "      <td>1.695</td>\n",
              "      <td>1.717</td>\n",
              "      <td>1.744</td>\n",
              "      <td>0.593</td>\n",
              "      <td>0.502</td>\n",
              "      <td>0.493</td>\n",
              "      <td>0.504</td>\n",
              "      <td>0.449</td>\n",
              "      <td>0.431</td>\n",
              "      <td>0.444</td>\n",
              "      <td>0.446</td>\n",
              "      <td>0.429</td>\n",
              "      <td>3</td>\n",
              "    </tr>\n",
              "    <tr>\n",
              "      <th>3</th>\n",
              "      <td>0.437</td>\n",
              "      <td>0.501</td>\n",
              "      <td>3.625</td>\n",
              "      <td>3.626</td>\n",
              "      <td>5.0</td>\n",
              "      <td>2.918</td>\n",
              "      <td>5.0</td>\n",
              "      <td>2.353</td>\n",
              "      <td>2.334</td>\n",
              "      <td>2.642</td>\n",
              "      <td>1.730</td>\n",
              "      <td>1.687</td>\n",
              "      <td>1.695</td>\n",
              "      <td>1.717</td>\n",
              "      <td>1.744</td>\n",
              "      <td>0.593</td>\n",
              "      <td>0.502</td>\n",
              "      <td>0.493</td>\n",
              "      <td>0.504</td>\n",
              "      <td>0.449</td>\n",
              "      <td>0.431</td>\n",
              "      <td>0.444</td>\n",
              "      <td>0.444</td>\n",
              "      <td>0.429</td>\n",
              "      <td>3</td>\n",
              "    </tr>\n",
              "    <tr>\n",
              "      <th>4</th>\n",
              "      <td>0.438</td>\n",
              "      <td>0.498</td>\n",
              "      <td>3.626</td>\n",
              "      <td>3.629</td>\n",
              "      <td>5.0</td>\n",
              "      <td>2.918</td>\n",
              "      <td>5.0</td>\n",
              "      <td>2.640</td>\n",
              "      <td>2.334</td>\n",
              "      <td>2.639</td>\n",
              "      <td>1.696</td>\n",
              "      <td>1.687</td>\n",
              "      <td>1.695</td>\n",
              "      <td>1.717</td>\n",
              "      <td>1.744</td>\n",
              "      <td>0.592</td>\n",
              "      <td>0.502</td>\n",
              "      <td>0.493</td>\n",
              "      <td>0.504</td>\n",
              "      <td>0.449</td>\n",
              "      <td>0.431</td>\n",
              "      <td>0.444</td>\n",
              "      <td>0.441</td>\n",
              "      <td>0.429</td>\n",
              "      <td>3</td>\n",
              "    </tr>\n",
              "  </tbody>\n",
              "</table>\n",
              "</div>"
            ],
            "text/plain": [
              "       a      b      c      d    e      f  ...      t      u      v      w      x  y\n",
              "0  0.438  0.498  3.625  3.645  5.0  2.918  ...  0.445  0.431  0.444  0.440  0.429  3\n",
              "1  0.438  0.498  3.625  3.648  5.0  2.918  ...  0.449  0.431  0.444  0.443  0.429  3\n",
              "2  0.438  0.498  3.625  3.629  5.0  2.918  ...  0.449  0.431  0.444  0.446  0.429  3\n",
              "3  0.437  0.501  3.625  3.626  5.0  2.918  ...  0.449  0.431  0.444  0.444  0.429  3\n",
              "4  0.438  0.498  3.626  3.629  5.0  2.918  ...  0.449  0.431  0.444  0.441  0.429  3\n",
              "\n",
              "[5 rows x 25 columns]"
            ]
          },
          "metadata": {
            "tags": []
          },
          "execution_count": 6
        }
      ]
    },
    {
      "cell_type": "code",
      "metadata": {
        "id": "TzwnVtAR1JbN",
        "colab_type": "code",
        "colab": {}
      },
      "source": [
        "# Now we will seperate Labels and Features.\n",
        "x= dataset.iloc[:,:-1] # Here x is Features \n",
        "y=dataset.iloc[:,-1]   # Here y is Labels"
      ],
      "execution_count": 0,
      "outputs": []
    },
    {
      "cell_type": "code",
      "metadata": {
        "id": "kSoLcht91hf_",
        "colab_type": "code",
        "colab": {}
      },
      "source": [
        "x_train,x_test,y_train,y_test = train_test_split(x,y, test_size = 0.2, random_state=0)"
      ],
      "execution_count": 0,
      "outputs": []
    },
    {
      "cell_type": "code",
      "metadata": {
        "id": "uGkbLQXo1trF",
        "colab_type": "code",
        "outputId": "7194edef-d767-469b-846b-bad2311965a0",
        "colab": {
          "base_uri": "https://localhost:8080/",
          "height": 33
        }
      },
      "source": [
        "x_train.shape"
      ],
      "execution_count": 33,
      "outputs": [
        {
          "output_type": "execute_result",
          "data": {
            "text/plain": [
              "(4364, 24)"
            ]
          },
          "metadata": {
            "tags": []
          },
          "execution_count": 33
        }
      ]
    },
    {
      "cell_type": "code",
      "metadata": {
        "id": "RgPRMIZs1vXr",
        "colab_type": "code",
        "outputId": "fd6cf2ad-f050-4012-842b-e322a8349620",
        "colab": {
          "base_uri": "https://localhost:8080/",
          "height": 33
        }
      },
      "source": [
        "y_train.shape"
      ],
      "execution_count": 34,
      "outputs": [
        {
          "output_type": "execute_result",
          "data": {
            "text/plain": [
              "(4364,)"
            ]
          },
          "metadata": {
            "tags": []
          },
          "execution_count": 34
        }
      ]
    },
    {
      "cell_type": "code",
      "metadata": {
        "id": "4M3ZYfuW1xnw",
        "colab_type": "code",
        "outputId": "d7ed4afa-6373-4906-a96b-a4997bdc5e0b",
        "colab": {
          "base_uri": "https://localhost:8080/",
          "height": 33
        }
      },
      "source": [
        "set(y_train)"
      ],
      "execution_count": 35,
      "outputs": [
        {
          "output_type": "execute_result",
          "data": {
            "text/plain": [
              "{0, 1, 2, 3}"
            ]
          },
          "metadata": {
            "tags": []
          },
          "execution_count": 35
        }
      ]
    },
    {
      "cell_type": "code",
      "metadata": {
        "id": "U-PkNeEe0Smx",
        "colab_type": "code",
        "outputId": "bc1c9514-cfa2-42bd-fa6b-3b1fda87c08e",
        "colab": {
          "base_uri": "https://localhost:8080/",
          "height": 33
        }
      },
      "source": [
        "x_test.shape"
      ],
      "execution_count": 36,
      "outputs": [
        {
          "output_type": "execute_result",
          "data": {
            "text/plain": [
              "(1092, 24)"
            ]
          },
          "metadata": {
            "tags": []
          },
          "execution_count": 36
        }
      ]
    },
    {
      "cell_type": "code",
      "metadata": {
        "id": "686WkIfV0WFM",
        "colab_type": "code",
        "outputId": "a62c9444-2379-44ac-b766-861420300d62",
        "colab": {
          "base_uri": "https://localhost:8080/",
          "height": 35
        }
      },
      "source": [
        "y_test.shape"
      ],
      "execution_count": 0,
      "outputs": [
        {
          "output_type": "execute_result",
          "data": {
            "text/plain": [
              "(1092,)"
            ]
          },
          "metadata": {
            "tags": []
          },
          "execution_count": 15
        }
      ]
    },
    {
      "cell_type": "code",
      "metadata": {
        "id": "HL7Zxstu3PvT",
        "colab_type": "code",
        "outputId": "34c6aac0-73ea-495d-8919-a45a09aeeb9f",
        "colab": {
          "base_uri": "https://localhost:8080/",
          "height": 33
        }
      },
      "source": [
        "y_train = np_utils.to_categorical(y_train,10)\n",
        "y_test = np_utils.to_categorical(y_test,10)"
      ],
      "execution_count": 39,
      "outputs": [
        {
          "output_type": "stream",
          "text": [
            "Using TensorFlow backend.\n"
          ],
          "name": "stderr"
        }
      ]
    },
    {
      "cell_type": "markdown",
      "metadata": {
        "id": "prMr263Q1_RG",
        "colab_type": "text"
      },
      "source": [
        "Build the neural network"
      ]
    },
    {
      "cell_type": "code",
      "metadata": {
        "id": "-iObLF7k1zan",
        "colab_type": "code",
        "colab": {}
      },
      "source": [
        "model = Sequential()\n"
      ],
      "execution_count": 0,
      "outputs": []
    },
    {
      "cell_type": "code",
      "metadata": {
        "id": "dVdAvAelso-a",
        "colab_type": "code",
        "colab": {}
      },
      "source": [
        "model.add(Dense(64, input_dim=24, activation = None))    #input_layer\n",
        "#model.add(BatchNormalization())\n",
        "#model.add(Dropout(0.2))\n",
        "\n",
        "\n",
        "model.add(Dense(128 , activation= 'relu'))     #Hidden_layer\n",
        "#model.add(BatchNormalization())\n",
        "#model.add(Dropout(0.2))\n",
        "\n",
        "model.add(Dense(128 , activation= 'relu'))     #Hidden_layer\n",
        "#model.add(BatchNormalization())\n",
        "#model.add(Dropout(0.2))\n",
        "\n",
        "\n",
        "model.add(Dense(10, activation = 'softmax'))   #Output_layer"
      ],
      "execution_count": 0,
      "outputs": []
    },
    {
      "cell_type": "code",
      "metadata": {
        "id": "MBYyraLP2I1H",
        "colab_type": "code",
        "outputId": "2f804a7b-fa62-4519-e24e-2f600f2001ba",
        "colab": {
          "base_uri": "https://localhost:8080/",
          "height": 284
        }
      },
      "source": [
        "model.summary()"
      ],
      "execution_count": 43,
      "outputs": [
        {
          "output_type": "stream",
          "text": [
            "Model: \"sequential\"\n",
            "_________________________________________________________________\n",
            "Layer (type)                 Output Shape              Param #   \n",
            "=================================================================\n",
            "dense (Dense)                (None, 64)                1600      \n",
            "_________________________________________________________________\n",
            "dense_1 (Dense)              (None, 128)               8320      \n",
            "_________________________________________________________________\n",
            "dense_2 (Dense)              (None, 128)               16512     \n",
            "_________________________________________________________________\n",
            "dense_3 (Dense)              (None, 10)                1290      \n",
            "=================================================================\n",
            "Total params: 27,722\n",
            "Trainable params: 27,722\n",
            "Non-trainable params: 0\n",
            "_________________________________________________________________\n"
          ],
          "name": "stdout"
        }
      ]
    },
    {
      "cell_type": "code",
      "metadata": {
        "id": "Rh6c4pQO2VzD",
        "colab_type": "code",
        "colab": {}
      },
      "source": [
        "model.compile(loss = 'categorical_crossentropy', optimizer = 'adam' , metrics = ['accuracy'])"
      ],
      "execution_count": 0,
      "outputs": []
    },
    {
      "cell_type": "code",
      "metadata": {
        "id": "6lm-eZAV2p7f",
        "colab_type": "code",
        "outputId": "0c9fc97d-5ef4-41cb-dbd6-584a8cda8115",
        "colab": {
          "base_uri": "https://localhost:8080/",
          "height": 1000
        }
      },
      "source": [
        "model.fit(x_train, y_train,epochs = 30, batch_size=100)"
      ],
      "execution_count": 45,
      "outputs": [
        {
          "output_type": "stream",
          "text": [
            "Epoch 1/30\n",
            "44/44 [==============================] - 0s 3ms/step - loss: 1.0187 - accuracy: 0.5885\n",
            "Epoch 2/30\n",
            "44/44 [==============================] - 0s 3ms/step - loss: 0.6195 - accuracy: 0.7599\n",
            "Epoch 3/30\n",
            "44/44 [==============================] - 0s 2ms/step - loss: 0.5176 - accuracy: 0.7972\n",
            "Epoch 4/30\n",
            "44/44 [==============================] - 0s 3ms/step - loss: 0.4605 - accuracy: 0.8272\n",
            "Epoch 5/30\n",
            "44/44 [==============================] - 0s 3ms/step - loss: 0.4121 - accuracy: 0.8481\n",
            "Epoch 6/30\n",
            "44/44 [==============================] - 0s 3ms/step - loss: 0.3745 - accuracy: 0.8680\n",
            "Epoch 7/30\n",
            "44/44 [==============================] - 0s 3ms/step - loss: 0.3518 - accuracy: 0.8740\n",
            "Epoch 8/30\n",
            "44/44 [==============================] - 0s 3ms/step - loss: 0.3437 - accuracy: 0.8737\n",
            "Epoch 9/30\n",
            "44/44 [==============================] - 0s 3ms/step - loss: 0.3182 - accuracy: 0.8827\n",
            "Epoch 10/30\n",
            "44/44 [==============================] - 0s 3ms/step - loss: 0.3052 - accuracy: 0.8847\n",
            "Epoch 11/30\n",
            "44/44 [==============================] - 0s 3ms/step - loss: 0.2851 - accuracy: 0.9005\n",
            "Epoch 12/30\n",
            "44/44 [==============================] - 0s 3ms/step - loss: 0.2653 - accuracy: 0.9056\n",
            "Epoch 13/30\n",
            "44/44 [==============================] - 0s 3ms/step - loss: 0.2508 - accuracy: 0.9081\n",
            "Epoch 14/30\n",
            "44/44 [==============================] - 0s 3ms/step - loss: 0.2526 - accuracy: 0.9072\n",
            "Epoch 15/30\n",
            "44/44 [==============================] - 0s 3ms/step - loss: 0.2435 - accuracy: 0.9104\n",
            "Epoch 16/30\n",
            "44/44 [==============================] - 0s 3ms/step - loss: 0.2239 - accuracy: 0.9184\n",
            "Epoch 17/30\n",
            "44/44 [==============================] - 0s 3ms/step - loss: 0.2144 - accuracy: 0.9274\n",
            "Epoch 18/30\n",
            "44/44 [==============================] - 0s 3ms/step - loss: 0.2013 - accuracy: 0.9274\n",
            "Epoch 19/30\n",
            "44/44 [==============================] - 0s 2ms/step - loss: 0.1981 - accuracy: 0.9285\n",
            "Epoch 20/30\n",
            "44/44 [==============================] - 0s 3ms/step - loss: 0.1987 - accuracy: 0.9242\n",
            "Epoch 21/30\n",
            "44/44 [==============================] - 0s 3ms/step - loss: 0.1884 - accuracy: 0.9329\n",
            "Epoch 22/30\n",
            "44/44 [==============================] - 0s 3ms/step - loss: 0.1837 - accuracy: 0.9342\n",
            "Epoch 23/30\n",
            "44/44 [==============================] - 0s 3ms/step - loss: 0.1788 - accuracy: 0.9329\n",
            "Epoch 24/30\n",
            "44/44 [==============================] - 0s 3ms/step - loss: 0.1849 - accuracy: 0.9349\n",
            "Epoch 25/30\n",
            "44/44 [==============================] - 0s 3ms/step - loss: 0.1622 - accuracy: 0.9436\n",
            "Epoch 26/30\n",
            "44/44 [==============================] - 0s 3ms/step - loss: 0.1640 - accuracy: 0.9381\n",
            "Epoch 27/30\n",
            "44/44 [==============================] - 0s 3ms/step - loss: 0.1507 - accuracy: 0.9464\n",
            "Epoch 28/30\n",
            "44/44 [==============================] - 0s 3ms/step - loss: 0.1432 - accuracy: 0.9500\n",
            "Epoch 29/30\n",
            "44/44 [==============================] - 0s 3ms/step - loss: 0.1700 - accuracy: 0.9356\n",
            "Epoch 30/30\n",
            "44/44 [==============================] - 0s 3ms/step - loss: 0.1697 - accuracy: 0.9340\n"
          ],
          "name": "stdout"
        },
        {
          "output_type": "execute_result",
          "data": {
            "text/plain": [
              "<tensorflow.python.keras.callbacks.History at 0x7f35704fec50>"
            ]
          },
          "metadata": {
            "tags": []
          },
          "execution_count": 45
        }
      ]
    },
    {
      "cell_type": "code",
      "metadata": {
        "id": "9vOQc8N43sAY",
        "colab_type": "code",
        "colab": {
          "base_uri": "https://localhost:8080/",
          "height": 33
        },
        "outputId": "b0147927-20e5-49ec-fdb6-bce0ac3427dc"
      },
      "source": [
        "# Evaluate the Score \n",
        "Score= model.evaluate(x_test,y_test)"
      ],
      "execution_count": 58,
      "outputs": [
        {
          "output_type": "stream",
          "text": [
            "35/35 [==============================] - 0s 2ms/step - loss: 0.2910 - accuracy: 0.9368\n"
          ],
          "name": "stdout"
        }
      ]
    },
    {
      "cell_type": "code",
      "metadata": {
        "id": "RvrhbCuiuIqR",
        "colab_type": "code",
        "colab": {
          "base_uri": "https://localhost:8080/",
          "height": 33
        },
        "outputId": "82742f14-e04f-4142-aed2-b820205d4db4"
      },
      "source": [
        "#Loss\n",
        "print('Loss :',Score[0])"
      ],
      "execution_count": 59,
      "outputs": [
        {
          "output_type": "stream",
          "text": [
            "Loss : 0.2909529209136963\n"
          ],
          "name": "stdout"
        }
      ]
    },
    {
      "cell_type": "code",
      "metadata": {
        "id": "YCk_sC1UuOrk",
        "colab_type": "code",
        "colab": {
          "base_uri": "https://localhost:8080/",
          "height": 33
        },
        "outputId": "e0933bc9-a7c9-417f-c7da-25fd45f75a24"
      },
      "source": [
        "#Accuracy\n",
        "print('Accuracy :',Score[1])"
      ],
      "execution_count": 60,
      "outputs": [
        {
          "output_type": "stream",
          "text": [
            "Accuracy : 0.9368131756782532\n"
          ],
          "name": "stdout"
        }
      ]
    },
    {
      "cell_type": "code",
      "metadata": {
        "id": "XgHG4KDsv_9U",
        "colab_type": "code",
        "colab": {
          "base_uri": "https://localhost:8080/",
          "height": 1000
        },
        "outputId": "70c91160-2c59-4d89-a4ec-bb3274489d4e"
      },
      "source": [
        "#Validating the test data\n",
        "\n",
        "model.fit(x_train, y_train,validation_data = (x_test,y_test),epochs = 30, batch_size=100)"
      ],
      "execution_count": 61,
      "outputs": [
        {
          "output_type": "stream",
          "text": [
            "Epoch 1/30\n",
            "44/44 [==============================] - 0s 4ms/step - loss: 0.0563 - accuracy: 0.9801 - val_loss: 0.3020 - val_accuracy: 0.9277\n",
            "Epoch 2/30\n",
            "44/44 [==============================] - 0s 5ms/step - loss: 0.0587 - accuracy: 0.9775 - val_loss: 0.2550 - val_accuracy: 0.9432\n",
            "Epoch 3/30\n",
            "44/44 [==============================] - 0s 4ms/step - loss: 0.0608 - accuracy: 0.9762 - val_loss: 0.2659 - val_accuracy: 0.9414\n",
            "Epoch 4/30\n",
            "44/44 [==============================] - 0s 5ms/step - loss: 0.0689 - accuracy: 0.9748 - val_loss: 0.2876 - val_accuracy: 0.9258\n",
            "Epoch 5/30\n",
            "44/44 [==============================] - 0s 4ms/step - loss: 0.0784 - accuracy: 0.9730 - val_loss: 0.2668 - val_accuracy: 0.9386\n",
            "Epoch 6/30\n",
            "44/44 [==============================] - 0s 4ms/step - loss: 0.0562 - accuracy: 0.9789 - val_loss: 0.2599 - val_accuracy: 0.9414\n",
            "Epoch 7/30\n",
            "44/44 [==============================] - 0s 4ms/step - loss: 0.0458 - accuracy: 0.9826 - val_loss: 0.2699 - val_accuracy: 0.9423\n",
            "Epoch 8/30\n",
            "44/44 [==============================] - 0s 4ms/step - loss: 0.0608 - accuracy: 0.9759 - val_loss: 0.2849 - val_accuracy: 0.9332\n",
            "Epoch 9/30\n",
            "44/44 [==============================] - 0s 5ms/step - loss: 0.0506 - accuracy: 0.9810 - val_loss: 0.2611 - val_accuracy: 0.9386\n",
            "Epoch 10/30\n",
            "44/44 [==============================] - 0s 5ms/step - loss: 0.0580 - accuracy: 0.9819 - val_loss: 0.2785 - val_accuracy: 0.9350\n",
            "Epoch 11/30\n",
            "44/44 [==============================] - 0s 4ms/step - loss: 0.0556 - accuracy: 0.9803 - val_loss: 0.2883 - val_accuracy: 0.9286\n",
            "Epoch 12/30\n",
            "44/44 [==============================] - 0s 4ms/step - loss: 0.0650 - accuracy: 0.9789 - val_loss: 0.2725 - val_accuracy: 0.9359\n",
            "Epoch 13/30\n",
            "44/44 [==============================] - 0s 4ms/step - loss: 0.0460 - accuracy: 0.9842 - val_loss: 0.2591 - val_accuracy: 0.9359\n",
            "Epoch 14/30\n",
            "44/44 [==============================] - 0s 5ms/step - loss: 0.0561 - accuracy: 0.9789 - val_loss: 0.2771 - val_accuracy: 0.9350\n",
            "Epoch 15/30\n",
            "44/44 [==============================] - 0s 4ms/step - loss: 0.0526 - accuracy: 0.9808 - val_loss: 0.3072 - val_accuracy: 0.9231\n",
            "Epoch 16/30\n",
            "44/44 [==============================] - 0s 4ms/step - loss: 0.0542 - accuracy: 0.9796 - val_loss: 0.2728 - val_accuracy: 0.9350\n",
            "Epoch 17/30\n",
            "44/44 [==============================] - 0s 4ms/step - loss: 0.0529 - accuracy: 0.9817 - val_loss: 0.3014 - val_accuracy: 0.9277\n",
            "Epoch 18/30\n",
            "44/44 [==============================] - 0s 4ms/step - loss: 0.0509 - accuracy: 0.9812 - val_loss: 0.2625 - val_accuracy: 0.9313\n",
            "Epoch 19/30\n",
            "44/44 [==============================] - 0s 5ms/step - loss: 0.0385 - accuracy: 0.9860 - val_loss: 0.3032 - val_accuracy: 0.9359\n",
            "Epoch 20/30\n",
            "44/44 [==============================] - 0s 4ms/step - loss: 0.0533 - accuracy: 0.9842 - val_loss: 0.3150 - val_accuracy: 0.9249\n",
            "Epoch 21/30\n",
            "44/44 [==============================] - 0s 4ms/step - loss: 0.0706 - accuracy: 0.9769 - val_loss: 0.3920 - val_accuracy: 0.9240\n",
            "Epoch 22/30\n",
            "44/44 [==============================] - 0s 4ms/step - loss: 0.0603 - accuracy: 0.9755 - val_loss: 0.2852 - val_accuracy: 0.9332\n",
            "Epoch 23/30\n",
            "44/44 [==============================] - 0s 4ms/step - loss: 0.0657 - accuracy: 0.9771 - val_loss: 0.3464 - val_accuracy: 0.9249\n",
            "Epoch 24/30\n",
            "44/44 [==============================] - 0s 4ms/step - loss: 0.0649 - accuracy: 0.9757 - val_loss: 0.3059 - val_accuracy: 0.9185\n",
            "Epoch 25/30\n",
            "44/44 [==============================] - 0s 4ms/step - loss: 0.0509 - accuracy: 0.9828 - val_loss: 0.3327 - val_accuracy: 0.9185\n",
            "Epoch 26/30\n",
            "44/44 [==============================] - 0s 4ms/step - loss: 0.0547 - accuracy: 0.9789 - val_loss: 0.3285 - val_accuracy: 0.9267\n",
            "Epoch 27/30\n",
            "44/44 [==============================] - 0s 4ms/step - loss: 0.0539 - accuracy: 0.9780 - val_loss: 0.2715 - val_accuracy: 0.9322\n",
            "Epoch 28/30\n",
            "44/44 [==============================] - 0s 4ms/step - loss: 0.0461 - accuracy: 0.9826 - val_loss: 0.3058 - val_accuracy: 0.9286\n",
            "Epoch 29/30\n",
            "44/44 [==============================] - 0s 5ms/step - loss: 0.0513 - accuracy: 0.9828 - val_loss: 0.2701 - val_accuracy: 0.9386\n",
            "Epoch 30/30\n",
            "44/44 [==============================] - 0s 5ms/step - loss: 0.0490 - accuracy: 0.9817 - val_loss: 0.3120 - val_accuracy: 0.9313\n"
          ],
          "name": "stdout"
        },
        {
          "output_type": "execute_result",
          "data": {
            "text/plain": [
              "<tensorflow.python.keras.callbacks.History at 0x7f357027cb00>"
            ]
          },
          "metadata": {
            "tags": []
          },
          "execution_count": 61
        }
      ]
    }
  ]
}